{
 "cells": [
  {
   "cell_type": "code",
   "execution_count": 1,
   "metadata": {},
   "outputs": [],
   "source": [
    "import io\n",
    "import random\n",
    "import string\n",
    "import numpy as np\n",
    "import bs4 as bs\n",
    "\n",
    "import requests \n",
    "\n",
    "##regular expression\n",
    "import re\n",
    "\n",
    "from sklearn.feature_extraction.text import TfidfVectorizer\n",
    "from sklearn.metrics.pairwise import cosine_similarity\n",
    "\n",
    "import warnings\n",
    "warnings.filterwarnings('ignore')"
   ]
  },
  {
   "cell_type": "code",
   "execution_count": 2,
   "metadata": {},
   "outputs": [],
   "source": [
    "import nltk\n",
    "from nltk.stem import WordNetLemmatizer\n",
    "\n",
    "#nltk.download('punkt') \n",
    "#nltk.download('wordnet') "
   ]
  },
  {
   "cell_type": "code",
   "execution_count": 3,
   "metadata": {},
   "outputs": [],
   "source": [
    "##returns the object which contains\n",
    "r=requests.get('https://en.wikipedia.org/wiki/Naruto')\n",
    "\n",
    "#raw_html contains photos, special characters which is not needed\n",
    "raw_html=r.text "
   ]
  },
  {
   "cell_type": "code",
   "execution_count": 4,
   "metadata": {},
   "outputs": [],
   "source": [
    "##cleaning up\n",
    "corpus_html=bs.BeautifulSoup(raw_html)\n",
    "\n",
    "#extracting paragraphs only from html\n",
    "corpus_paras=corpus_html.find_all('p')\n",
    "corpus_text='' \n",
    "\n",
    "#concatenating all the paras\n",
    "for para in corpus_paras:\n",
    "    corpus_text+=para.text\n",
    "\n",
    "##lowering all the text\n",
    "corpus_text=corpus_text.lower()\n"
   ]
  },
  {
   "cell_type": "code",
   "execution_count": 5,
   "metadata": {},
   "outputs": [
    {
     "data": {
      "text/plain": [
       "'\\nnaruto (japanese: naruto（ナルト）) is a japanese manga series written and illustrated by masashi kishimoto. it tells the story of naruto uzumaki, a young ninja who seeks recognition from his peers and dreams of becoming the hokage, the leader of his village. the story is told in two parts – the first set in naruto\\'s pre-teen years, and the second in his teens. the series is based on two one-shot manga by kishimoto: karakuri (1995), which earned kishimoto an honorable mention in shueisha\\'s monthly hop step award the following year, and naruto (1997).\\nnaruto was serialized in shueisha\\'s magazine, weekly shōnen jump from 1999 to 2014, and released in tankōbon (book) form in 72 volumes. the manga was adapted into an anime television series produced by pierrot and aniplex, which broadcast 220 episodes in japan from 2002 to 2007; the english adaptation of the series aired on cartoon network and ytv from 2005 to 2009. naruto: shippuden, a sequel to the original series, premiered in japan in 2007, and ended in 2017, after 500 episodes. the english adaptation was broadcast on disney xd from 2009 to 2011, airing the first 98 episodes, and then switched over to adult swim\\'s toonami programming block in january 2014, starting over from the first episode. the english adaptation is still airing weekly on adult swim to this day. besides the anime series, pierrot has developed eleven movies and twelve original video animations (ovas). other naruto-related merchandise includes light novels, video games, and trading cards developed by several companies.\\nviz media licensed the manga and anime for north american production and serialized naruto in their digital weekly shonen jump magazine. the anime series began airing in the united states and canada in 2005, and in the united kingdom and australia in 2006 and 2007, respectively. the films and most ovas from the series were also released by viz, with the first film premiering in movie theaters. viz media began streaming the two anime series on their streaming service neon alley in december 2012. the story of naruto continues with naruto\\'s son, boruto uzumaki, in boruto: naruto next generations: boruto wishes to create his own ninja way instead of following his father\\'s.\\nnaruto is the fourth best-selling manga series in history, selling 250 million copies worldwide in 46 countries, with 153 million of the sales in japan alone and remaining 97 million copies elsewhere. it has become one of viz media\\'s best-selling manga series; their english translations of the volumes have appeared on usa today and the new york times bestseller list several times, and the seventh volume won a quill award in 2006. reviewers praised the manga\\'s character development, strong storylines, and well-executed fight scenes, though some felt the fight scenes slowed the story down. critics noted that the manga, which has a coming-of-age theme, makes use of cultural references from japanese mythology and confucianism.\\na powerful fox known as the nine-tails attacks konoha, the hidden leaf village in the land of fire, one of the five great shinobi countries in the ninja world. in response, the leader of konoha and the fourth hokage, minato namikaze (with his wife kushina uzumaki) seals the fox inside the body of his newborn son, naruto uzumaki, making naruto a host of the beast;[e] this costs naruto\\'s father his life, and the third hokage returns from retirement to become the leader of konoha again. naruto is often ridiculed by the konoha villagers for being the host of the nine-tails. because of a decree made by the third hokage forbidding anyone to mention these events, naruto knows nothing about the nine-tails until 12 years later, when mizuki, a renegade ninja, reveals the truth to naruto. naruto then defeats mizuki in combat, earning the respect of his teacher iruka umino.[f]\\nshortly afterward, naruto becomes a ninja and joins with sasuke uchiha, against whom he often competes, and sakura haruno, on whom he has a crush, to form team 7, under an experienced sensei, the elite ninja kakashi hatake. like all the ninja teams from every village, team 7 completes missions requested by the villagers, ranging from doing chores and being bodyguards to performing assassinations.\\nafter several missions, including a major one in the land of waves, kakashi allows team 7 to take a ninja exam, enabling them to advance to a higher rank and take on more difficult missions, known as chunin exams. during the exams, orochimaru, a wanted criminal, invades konoha and kills the third hokage for revenge. jiraiya, one of the three legendary ninjas, declines the title of fifth hokage and searches with naruto for tsunade whom he chooses to become fifth hokage instead.\\nduring the search, it is revealed that orochimaru wishes to train sasuke because of his powerful genetic heritage, the sharingan. [g] after sasuke attempts and fails to kill his older brother itachi[h] when he showed up in konoha to kidnap naruto, he joins orochimaru, hoping to gain from him the strength needed to kill itachi. the story takes a turn when sasuke leaves the konoha village and when tsunade finds out, she sends a group of ninja, including naruto, to retrieve sasuke, but naruto is unable to persuade or force him to come back. naruto and sakura do not give up on sasuke: naruto leaves konoha to receive training from jiraiya to prepare himself for the next time he encounters sasuke, while sakura becomes tsunade\\'s apprentice.\\ntwo and a half years later, naruto returns from his training with jiraiya. the akatsuki starts kidnapping the hosts of the powerful tailed beasts. team 7 and other leaf ninja fight against them and search for their teammate sasuke. the akatsuki succeeds in capturing and extracting seven of the tailed beasts, killing all the hosts except gaara, who is now the kazekage. meanwhile, sasuke betrays orochimaru and faces itachi to take revenge. after itachi dies in battle, sasuke learns from the akatsuki founder tobi that itachi received an order from konoha\\'s superiors to destroy his clan to prevent a coup. he accepted it on the condition that he would be allowed to spare sasuke. saddened by this revelation, sasuke joins the akatsuki to destroy konoha in revenge. as konoha ninjas defeat several akatsuki members, the akatsuki figurehead leader, nagato, kills jiraiya and devastates konoha, but naruto defeats and redeems him, earning the village\\'s respect and admiration.\\nwith nagato\\'s death, tobi, disguised as madara uchiha (one of konoha\\'s founding fathers), announces that he wants to capture all nine tailed beasts to perform an illusion powerful enough to control all humanity and achieve world peace. the leaders of the five ninja villages refuse to help him and instead join forces to confront tobi and his allies. that decision results in a fourth shinobi world war between the combined armies of the five great countries (known as the allied shinobi forces) and akatsuki\\'s forces of zombie-like ninjas. the five kage try to keep naruto, unaware of the war, in a secret island turtle near kumogakure (hidden cloud village), but naruto finds out and escapes from the island with killer bee, the host of the eight-tails. at that time, naruto—along with the help of killer bee—gains control of his tailed beast and the two of them head for the battlefield.\\nduring the conflict, it is revealed that tobi is obito uchiha, a former teammate of kakashi\\'s who was thought to be dead. the real madara saved obito\\'s life, and they have since collaborated. as sasuke learns the history of konoha, including the circumstances that led to his clan\\'s downfall, he decides to protect the village and rejoins naruto and sakura to thwart madara and obito\\'s plans. however, madara\\'s body ends up possessed by kaguya otsutsuki, an ancient princess who intends to subdue all humanity. a reformed obito sacrifices himself to help team 7 stop her. once kaguya is sealed, madara dies as well. sasuke takes advantage of the situation and takes control of all the tailed beasts, as he reveals his goal of ending the current village system. naruto confronts sasuke to dissuade him from his plan, and after they almost kill each other in a final battle, sasuke admits defeat and reforms. after the war, kakashi becomes the sixth hokage and pardons sasuke for his crimes. years later, kakashi steps down while naruto marries hinata hyuga and becomes the seventh hokage, raising the next generation.\\nin 1995, shueisha released karakuri, a one-shot manga by masashi kishimoto that earned an honorable mention in the hop step award in 1996. kishimoto was unsatisfied with his subsequent drafts for a follow up, and decided to work on another project.[4]  the new project was originally going to feature naruto as a chef, but this version never made it to print. kishimoto originally wanted to make naruto a child who could transform into a fox, so he created a one-shot of naruto for the summer 1997 issue of akamaru jump based on the idea.[5][6] despite the positive feedback it received in a readers\\' poll, kishimoto was unhappy with the art and the story, so he rewrote it as a story about ninjas.[7]\\nthe first eight chapters of naruto were planned before it appeared in weekly shōnen jump, and these chapters originally devoted many panels of intricate art to illustrating the konoha village. by the time naruto debuted, the background art was sparse, instead emphasizing the characters.[7] though kishimoto had concerns that chakra (the energy source used by the ninjas in naruto) made the series too japanese, he still believed it is an enjoyable read.[8] kishimoto is a fan of godzilla, and the tailed beasts mythology was introduced because kishimoto wanted an excuse to draw monsters.[9]  he has said that the central theme in part i of naruto is how people accept each other, citing naruto\\'s development across the series as an example.[10]\\nfor part ii of the manga, kishimoto tried to keep the panel layouts and the plot easy for the reader to follow, and avoid \"overdo[ing] the typical manga-style\".[11]  he considers that his drawing style has changed from \"the classic manga look to something a bit more realistic.\"[11] because of wishing to end the arc involving sasuke uchiha search for his brother, itachi, in a single volume, kishimoto decided that volume 43 should include more chapters than regular volumes. as a result, kishimoto apologized to readers for this since volume 43 was more expensive than regular volumes.[12]\\nwhen he created naruto, kishimoto looked to other shōnen manga as influences for his work and tried to make his characters unique, while basing the story on japanese culture.[13]  the separation of the characters into different teams was intended to give each group a particular flavor. kishimoto wanted each member to have a high level of aptitude in one skill and be talentless in another.[14] he found it difficult to write about romance, but emphasized it more in part ii of the manga, beginning with volume 28.[10] he introduced villains into the story to have them act as a counterpoint to his characters\\' moral values and clearly illustrate their differences.[15] as a result of how the younger characters were significantly weaker than the villains, kishimoto made the ellipsis in order to have them age and become stronger during this time.[16]\\nkishimoto made use of the chinese zodiac tradition, which had a long-standing presence in japan; the zodiac hand signs originate from this.[8] when kishimoto was creating the primary setting of the naruto manga, he concentrated initially on the designs for the village of konoha. the idea of the setting came to him \"pretty spontaneously without much thought\", but admits that the scenery became based on his home in the japanese prefecture of okayama prefecture. since the storyline does not specify when it is set, he was able to include modern elements in the series such as convenience stores.[17] he considered including automobiles, planes and simple computers, but excluded projectile weapons and vehicles from the plot.[17][18]\\nwhen serialization began, kishimoto decided the ending would feature a fight between two characters: naruto and sasuke. however, the writer felt the two were not equals as the former was not a victim of war like the latter whose family was killed to stop a possible civil war.[19] nagato\\'s arc paved the way for the ending of naruto to occur. nagato stood out as a villain due to suffering war and killing naruto\\'s mentor jiraiya.  understanding the fears of war, naruto\\'s characterization was made more complex for him to experience the fourth great shinobi war. these events end with naruto forgiving sasuke as he had forgiven nagato in the final battle.[16]\\nkishimoto chose hinata hyuga as naruto\\'s romantic partner from the early stages of the manga, since hinata had always respected and admired naruto even before the series\\' beginning, and kishimoto felt this meant the two of them could build a relationship.[20] when hinata first appeared, kishimoto thought of expanding romantic plotlines.[21][22] but decided to leave naruto\\'s maturation through romance as an idea for the film 2014 the last: naruto the movie where he worked alongside screenwriter maruo kyozuka, a writer more skilled at the theme of romance.[23]\\nnaruto was published in shueisha\\'s magazine, weekly shōnen jump from september 21, 1999 (no. 43), to november 10, 2014 (no. 50).[24] the manga was also published in tankōbon (book) form in japan and other countries, releasing 72 volumes—27 for part i, and the rest for part ii. the first 238 chapters are part i and constitute the first section of the naruto storyline. chapters 239 to 244 include a gaiden (side-story) focusing on kakashi hatake\\'s background. the remaining chapters (245 to 700) belong to part ii, which continues the story after a \\u200b2.mw-parser-output .sr-only{border:0;clip:rect(0,0,0,0);height:1px;margin:-1px;overflow:hidden;padding:0;position:absolute;width:1px;white-space:nowrap}\\xa01⁄2-year gap in the internal timeline.[25]  the first tankōbon was released on march 3, 2000.[26] shueisha have also released several ani-manga tankōbon, each based on one of the naruto movies,[27] and has released the series in japanese for cell-phone download on their website shueisha manga capsule.[28] a miniseries titled naruto: the seventh hokage and the scarlet spring (naruto（ナルト）外伝・七代目火影と緋色の花つ月, naruto gaiden: nanadaime hokage to akairo no hanatsuzuki), centered on the main characters\\' children, began serialization in the japanese and english editions of weekly shōnen jump on april 27, 2015, and ended after ten chapters on july 6, 2015.[29][30]\\nnaruto was scanlated (translated by fans) and available online before a licensed version was released in north america;[31]  the rights were acquired by viz media, who began serializing naruto in their anthology comic magazine shonen jump, starting with the january 2003 issue.[32]  the schedule was accelerated at the end of 2007 to catch up with the japanese version,[33] and again in early 2009, with 11 volumes (from 34 to 44) appearing in three months, after which it returned to a quarterly schedule.[34] all 27 volumes of part i were released in a boxed set on november 13, 2007.[35] on may 3, 2011, viz started selling the manga in an omnibus format with each book containing three volumes.[36]\\nas of march 31, 2008, the franchise has been licensed in 90 countries, and the manga serialized in 35 countries.[37][38] carlsen comics has licensed the series, through its regional divisions, and released the series in german and danish.[39] the series is also licensed for regional language releases in french and dutch by kana,[40] in polish by japonica polonica fantastica,[41] in russian by comix-art,[42] in finnish by sangatsu manga,[43] in swedish by bonnier carlsen,[44] and italian by panini comics.[45]\\na spin-off comedy manga by kenji taira, titled naruto sd: rock lee no seishun full-power ninden (naruto（ナルト） sd ロック・リーの青春フルパワー忍伝, naruto spin-off: rock lee & his ninja pals), focuses on the character rock lee, a character who aspires to be strong as a ninja but has no magical jutsu abilities. it ran in shueisha\\'s saikyō jump magazine from december 3, 2010, to july 4, 2014,[46][47] and was made into an anime series, produced by studio pierrot, and premiering on tv tokyo on april 3, 2012.[48] crunchyroll simulcasted the series\\' premiere on their website and streamed the following episodes.[49] taira also wrote uchiha sasuke no sharingan den (うちはサスケの写輪眼伝, sasuke uchiha\\'s sharingan legend), which released on october 3, 2014, which runs in the same magazine and features sasuke.[50]\\na monthly sequel series titled boruto: naruto next generations began in the japanese and english editions of weekly shōnen jump in early 2016, illustrated by mikio ikemoto and written by ukyō kodachi, with supervision by kishimoto. ikemoto was kishimoto\\'s chief assistant during the run of the original naruto series, and kodachi was his writing partner for the boruto: naruto the movie film screenplay. the monthly series was preceded by a one-shot written and illustrated by kishimoto.[51] the staff from shueisha asked kishimoto if he would write a sequel to naruto. however, kishimoto refused the offer and offered his former assistant mikio ikemoto and writer ukyo kodachi write boruto: naruto next generations as the sequel to naruto.[52]\\nthe naruto anime, directed by hayato date and produced by studio pierrot and tv tokyo, premiered in japan on october 3, 2002, and concluded on february 8, 2007 after 220 episodes on tv tokyo.[53][54] the first 135 episodes were adapted from part i of the manga; the remaining 85 episodes are original and use plot elements that are not in the manga.[55] tetsuya nishio was the character designer for naruto when the manga was adapted into an anime series; kishimoto had requested that nishio be given this role.[56][57] beginning on april 29, 2009, the original naruto anime began a rerun on wednesdays and thursdays (until the fourth week of september 2009 when it changed to only wednesdays). it was remastered in hd, with new 2d and 3d effects, under the name  naruto: shōnen hen (naruto（ナルト） 少年篇, \"naruto: youth version\").[58]  episodes from the series have been released on both vhs and dvd, and collected as boxed sets.[59][60][61][62]\\nviz licensed the anime series for broadcast and distribution in the region 1 market.[63] the english adaptation of the anime began airing on september 10, 2005 and concluded on january 31, 2009, with 209 episodes aired on cartoon network\\'s toonami in the united states.[64][65] the episodes were also broadcast on ytv\\'s bionix (canada),[66] jetix (united kingdom)[67] and sabc 2\\'s (south africa)[68] programming blocks, and were released on dvd on march 28, 2006.[69] on august 25, 2017, starz announced that they would be offering episodes of the series for their video on demand service starting september 1, 2017.[70] the first 26 volumes contain four episodes; later dvd volumes have five episodes.[71] uncut editions were released in dvd box sets, each containing 12–15 episodes, with some variation based on story arcs.[72] in the american broadcast, references to alcohol, japanese culture, sexual innuendo, and the appearance of blood and death were sometimes edited but remained in the dvd editions.[73] one of the censored scenes was the accidental kiss between naruto and sasuke, fitting in the long trend of removing content that alludes to homesexual relationships.[74] other networks cut more material, for example jetix censored scenes with blood, strong language, and smoking. the series was also licensed to hulu, joost, and crunchyroll, which aired the episodes online with the original japanese audio tracks and english subtitles.[75][76][77]  on june 1, 2017, it was announced that an hd remaster version of the original naruto television anime series would debut on japanese tv on june 24, starting with the show\\'s first episode.[78]\\nnaruto: shippuden (naruto（ナルト） 疾風伝, naruto shippūden, lit. \"naruto: hurricane chronicles\"), developed by studio pierrot and directed by hayato date, is the sequel to the original naruto anime; it corresponds to part ii of the manga.[79] it debuted on japanese tv on february 15, 2007, on tv tokyo, and concluded on march 23, 2017.[80][81] on january 8, 2009, tv tokyo began broadcasting new episodes via internet streaming to monthly subscribers. each streamed episode was available online within an hour of its japanese release and includes english subtitles.[82] viz began streaming english subtitled episodes on january 2, 2009, on its series\\' website, including episodes that had already been released as well as new episodes from japan.[83]  in the united states, the english dub of naruto: shippuden premiered weekly on disney xd from october 28, 2009, up until episode 98 on november 5, 2011.[84]  episodes 99 through 338 premiered uncut on the anime web channel neon alley until its shutdown on may 4, 2016.[85] the anime started airing from the beginning on adult swim\\'s toonami programming block on january 5, 2014, where it continues to air on a weekly basis.[86]\\nthe series was released on region 2 dvd in japan with four or five episodes per disk; there are four series of dvd releases divided by story arc.[87] there was a special feature included with the seventh naruto: shippuden compilation dvd called hurricane! \"konoha academy\" chronicles.[88] kakashi chronicles: boys\\' life on the battlefield (カカシ外伝～戦場のボーイズライフ～, kakashi gaiden ~senjō no bōizu raifu~) was released on december 16, 2009; featuring episodes 119–120, the story revolves around kakashi hatake\\'s childhood.[89]\\nthe first north american dvd of the series was released on september 29, 2009.[90] only the first 53 episodes were made available in this format before it ended with the 12th volume on august 10, 2010.[91] subsequent episodes were released as part of dvd boxed sets, beginning with the first season on january 26, 2010.[92] in the united kingdom, the series was licensed by manga entertainment who released the first dvd collection on june 14, 2010.[93]\\ntwelve naruto original video animations (ovas) have been released.\\nthe series was adapted into eleven films; the first three correspond to the first anime series, and the remaining eight correspond to the second series. the dates in the list below are for the original japanese release; all the films were released in english, usually no more than three years later.\\nin july 2015, lionsgate announced they were developing a live-action naruto with avi arad through his production company arad productions, with michael gracey directing, and erik feig, geoff shaveitz, and kelly o\\'malley producing.[120] on december 17, 2016, kishimoto announced that he has been asked to help develop the movie.[121]\\ntwenty-six naruto light novels, the first nine written by masatoshi kusakabe, have been published in japan.[122] of these, the first two have been released in english in north america. the first adapted novel, naruto: innocent heart, demonic blood (2002), retells a team 7 mission in which they encounter the assassins zabuza and haku;[123][124] the second, naruto: mission: protect the waterfall village! (2003) was based on the second ova of the anime.[125][126] viz has also published 16 chapter books written by tracey west with illustrations from the manga. unlike the series, these books were aimed at children ages seven to ten.[127]\\nthirteen original novels have appeared in japan;[122] eleven of these are part of a series, and the other two are independent novels unconnected to the series. the first independent novel, titled naruto: tales of a gutsy ninja (2009), is presented as an in-universe novel written by naruto\\'s master jiraiya. it follows the adventures of a fictional shinobi named naruto musasabi, who served as naruto\\'s namesake.[128] the other independent novel, naruto jinraiden: the day the wolf howled (2012), is set shortly after sasuke\\'s fight with itachi.[129]\\nitachi shinden, which consists of two novels, and sasuke shinden, a single novel, both appeared in 2015, and both were adapted into anime arcs in naruto: shippuden in 2016, titled naruto shippūden: itachi shinden-hen: hikari to yami and book of sunrise respectively.[130][131] hiden is a series of six light novels published in 2015 that explores the stories of various characters after the ending of the manga.[132]\\ntoshio masuda composed and arranged the naruto soundtracks. naruto original soundtrack was released on april 3, 2003, and contains 22 tracks used during the first season of the anime.[133] this was followed by naruto original soundtrack ii, released on march 18, 2004, which includes 19 tracks.[134] the third, naruto original soundtrack iii, was released on april 27, 2005, with 23 tracks.[135] two soundtracks containing all the opening and ending themes of the series, titled naruto: best hit collection and naruto: best hit collection ii were released on november 17, 2004, and august 2, 2006.[136][137] eight tracks from the series were selected and released on a cd called naruto in rock -the very best hit collection instrumental version- released on december 19, 2007.[138] soundtracks for the three movies based on the first anime series were available for sale near their release dates.[139][140][141] on october 12, 2011, a cd collecting the themes from naruto shōnen hen was released.[142] various cd series were released with voice actors performing original episodes.[143]\\nthe soundtracks of naruto: shippuden were produced by yasuharu takanashi; they were titled naruto shippūden original soundtrack i, ii, and iii, and were released in 2007, 2009, and 2016.[144][145][146] naruto all stars, released in 2008, consists of 10 original naruto songs remixed and sung by characters from the series.[147] ten themes from the two anime series were collected in the dvd box naruto super hits 2006–2008, which appeared in 2008.[148] soundtracks from the shippuden films have also been released, with the first one available in 2007.[149][150] a final one composed of the series is set to be released in late 2017 with aniplex having started a survey of all naruto and naruto shippuden themes to be included in the cd.[151]\\nnaruto video games have been released on various consoles by nintendo, sony, and microsoft. the majority of them are fighting games in which the player directly controls one of the characters from naruto. the player pits their character against another character controlled by the game\\'s ai or by another player; the objective is to reduce the opponent\\'s health to zero using basic attacks as well as special techniques unique to each character derived from techniques they use in the naruto anime or manga.[152] the first naruto video game was naruto: konoha ninpōchō, which was released in japan on march 27, 2003, for the wonderswan color.[153] most naruto video games have been released only in japan. the first games released outside of japan were the naruto: gekitou ninja taisen series and the naruto: saikyou ninja daikesshu series, released in north america under the titles of naruto: clash of ninja and naruto: ninja council.[154][155] in january 2012, namco bandai announced they had sold 10 million naruto games worldwide.[156]\\nthree official artbooks based on the naruto series have been released. the first two, titled art collection: uzumaki, and illustration collection: naruto, were released in japan in 2004 and 2009, with north american editions following in 2007 and 2010 respectively.[157][158][159][160] the third artbook illustration collection: naruto uzumaki, was published in 2015 in japan and later the same year in north america;[161][162] it contains artwork originally on shonen jump comic covers. it has no text except a brief commentary by kishimoto about his favorite artworks.[163] an interactive coloring book called paint jump: art of naruto was released in 2008.[164] an unreleased artbook titled naruto exhibition official guest book by masashi kishimoto was given to those who attended the naruto art exhibition at the mori art museum on april 25, 2015.[165]\\nfour guidebooks titled first official data book through fourth official data book have been released; the first two cover part i of the manga, and were released in 2002 and 2005; the third and fourth volumes appeared in 2008 and 2014.[166][167][168] these books contain character profiles, jutsu guides, and drafts by kishimoto.[169] for the anime, a series of guidebooks called naruto anime profiles was released. these books contain information about the production of the anime episodes and explanations of the characters\\' designs.[170] a manga fan book titled secret: writings from the warriors official fanbook appeared in 2002,[171] and another fan book was released to commemorate the series\\' 10th anniversary, including illustrations of naruto uzumaki by other manga artists, a novel, kishimoto\\'s one-shot titled karakuri, and an interview between kishimoto and yoshihiro togashi.[172]\\nproduced by bandai, the naruto collectible card game was released in japan in 2003,[173] and in north america in 2006.[174] the game is played between two players using a customized deck of fifty cards from the set, and a game mat. to win, a player must either earn ten \"battle rewards\" through their actions in the game or cause the other player to exhaust their deck.[175]  the cards were released in named sets called \"series\", in the form of four 50-card pre-constructed box sets.[173][174] each set includes a starter deck, the game mat, a turn-counter, and one stainless steel \"ninja blade coin\". extra cards are available in 10-card booster packs, and deck sets. four box sets sold in retailers are available for each series. cards for each set are available in collectible tins, containing several booster packs and exclusive promotional cards in a metal box.[176] by october 2006, seventeen series had been released in japan with 417 unique cards.[173] as of august 2008, ten of these series had been released in north america.[177]\\nthe manga has sold 250 million copies worldwide, making it the fourth best-selling manga series in history. more than half of the sales were in japan, with the remaining sales from 46 other countries.[178][38] it has become one of north american publisher viz media\\'s best-selling manga series;[179] their translation of the series appeared on usa today and the new york times bestseller lists several times, and volume seven of the manga won the quill award for graphic novel in 2006.[180][181] it was included in the fiction section of teacher librarian\\'s recommended list for 2008,[182] and school library journal described it as an essential manga for school libraries.[183]  volume 28 of the manga reached 17th place in the usa today booklist in its first week of release in march 2008, only two places short of the record for a manga, held by fruits basket.[184] the volume had one of the biggest debut weeks of any manga in years, becoming the top-selling manga volume of 2008 and the second best-selling book in north america.[185][186]  in 2010, viz, the publisher, commented on the loyalty of readers, who reliably continued to buy the manga as the volume count went over 40.[187]\\nin april 2007, volume 14 earned viz the manga trade paperback of the year gem award from diamond comic distributors.[188] the manga was nominated for favorite manga series in nickelodeon magazine\\'s 2009 comics awards.[189] in february 2015, asahi shimbun announced that naruto was one of nine nominees for the nineteenth annual tezuka osamu cultural prize,[190] and the following month kishimoto was the winner of rookie of the year for the series in the japanese government\\'s agency for cultural affairs 2014 minister of education, culture, sports, science, and technology fine arts recommendation awards.[191]  responding to naruto\\'s success, kishimoto said in naruto collector winter 2007/2008 that he was \"very glad that the american audience has accepted and understood ninja. it shows that the american audience has good taste\\xa0[...] because it means they can accept something previously unfamiliar to them.\"[192]\\nnaruto shippuden has been ranked several times as one of the most watched series in japan.[193][194] the first dvd compilation released by viz received a nomination from the american anime awards for best package design.[195] in 2011, naruto helped viz media generate $200 million in annual licensed merchandise sales.[196] as of 2019[update], viz media has sold more than 3 million naruto anime home video units, while naruto is also a top digital streaming performer on hulu.[197] it was also the top-earning anime franchise for tv tokyo in 2019 due to strong overseas sales.[198]\\nseveral reviewers commented on the balance between fight scenes and plot development; a. e. sparrow of ign and casey brienza of anime news network (ann) felt that the result was a strong storyline,[199][200] but carl kimlinger, also writing for ann, suggested that there were too many fights, which slowed down the plot.[201]  kimlinger liked the character designs, and approved of the fight scenes themselves[201] which also drew positive comments from rik spanjers, who felt that the excitement of the scenes depends on kishimoto\\'s skill in depicting action.[201] javier lugo, writing for manga life, agreed, describing the artwork as \"dramatic, exciting, and just right for the story he\\'s telling\".[202]\\nthe anime and manga magazine neo described naruto\\'s character as \"irksome\", but considered that the series\\' \"almost sickening addictiveness\" was due to the quality of the characterization,[203] and in briana lawrence\\'s opinion the growth of the characters gave part ii an adult feel.[204] in a review of volume 28 brienza also praised part ii\\'s storyline and characterization, though she commented that not every volume reached a high level of quality.[199]\\nthe fights across the part ii received praise, most notably naruto\\'s and sasuke\\'s, resulting in major changes into their character arcs.[205][206][207] meanwhile, the final battle between these two fighters in the finale earned major praise for the choreography and art provided as well as how in depth the two\\'s personalities were shown in the aftermath. some writers criticized kaguya being the least entertaining villain, making the showdown between naruto and sasuke more appealing as a result. the finale earned nearly perfect scores from both ann and comic book bin, with the latter acclaiming the popularity of the title character.[208][209][210]\\ngō itō, a professor in the manga department of tokyo polytechnic university, compared the series\\' development to the manga of dragon ball, saying that both manga present good illustrations of three-dimensional body movements that capture the characters\\' martial arts very well. gō felt readers could empathize with the characters in naruto via their inner monologue during battles.[211]\\nthe series also influenced the movie scott pilgrim vs. the world with director edgar wright saying he was inspired by how whenever there is a \"killer move\" in the manga, there is an impact in the background following any technique\\'s usage.[212] when the manga ended, multiple authors from the magazine expressed congratulations to kishimoto\\'s work.[213] the fight scenes in general earned acclaim for how well written they are, something game developer cyberconnect2 took into account when developing the naruto games.[214][215][216][217]\\non tv asahi\\'s manga sōsenkyo 2021 poll, in which 150.000 people voted for their top 100 manga series, naruto ranked #7.[218]\\nthe naruto anime was listed as the 38th best animated show in ign\\'s top 100 animated series.[219] in september 2005, japanese television network tv asahi broadcast a popularity poll based on a nationwide survey in which naruto placed 17th.[220] mike hale of the new york times described the series as much better than american animation aimed at children,[221] but the animation received some criticism from both the t.h.e.m. anime reviews critics: christina carpenter felt kishimoto\\'s artistic style translated poorly into animation,[222] and derrick tucker was also negative, though he felt that at their best, the depictions \"[left] little to be desired\".[223]  as with the manga, some reviewers, such as theron martin of ann, along with tucker, felt there were too many fight scenes,[223][224] though justin rich argued that the fight scenes were the most important and enjoyable element of the show.[225] carpenter also commented positively on the characters, though she felt that most were fairly stereotypical.[222] hiroshi matsuyama further reflected the anime\\'s 133rd episode to be one of his favorites not only for the action sequences between naruto and sasuke but also the emotional value displayed.[226]\\nnaruto: shippuden was well-reviewed by activeanime\\'s david c. jones who commented that the animation had improved.[227] ann noted that the series has a more serious tone and a better balance between comedy and drama than the first anime series; with more interesting digressions from the main plot.[228][229] although the pacing for the first episodes was criticised as slow, the delivery and development of the interactions between the characters received positive comments.[230][231] writing for the los angeles times, charles solomon ranked shippuden the third best anime on his \"top 10\".[232] in 2011, readers of guinness world records gamer\\'s edition voted naruto as the 29th-top video game character of all time.[233]\\namy plumb argues that kishimoto\\'s use of references to japanese mythology in naruto is intended to add further layers to the story. kishimoto expects his readers to decode the references, which allows him to avoid direct explanations. one example is itachi, who has three ninja techniques named after shinto deities: tsukiyomi, amaterasu, and susano-o. plumb also cites sasuke\\'s clan\\'s heraldic symbol, a fan known as an uchiwa. these fans are used in japanese myths to exorcise evil, by blowing it away; sasuke discovers late in the series that he has the ability to \"blow away\" the influence of the nine-tailed fox on naruto. foxes (kitsune tsuki) are tricksters in japanese mythology, and in some stories, they take over human bodies; plumb comments on the obvious similarities to the nine-tail sealed in naruto, and the pranks naruto plays.[234]\\nchristopher a. born notes that the naruto storyline contains traditional confucian values, and suggests that students who analyse manga such as naruto and bleach will learn more about confucianism than they would from studying its abstract ideas.[235] norman melchor robles jr. evaluated the portrayal of both positive and negative ideas in naruto by counting words in the script which were associated with either violence or positive values; he found that a small majority of tagged words were violent, but commented that the portrayal of violence seemed organized to show how positive strategies on the part of the protagonists could overcome the violence.[236] sheuo hui gan considers the series to have a set of \"traditional ethical values\". she also compares the treatment of alienation in naruto, which naruto overcomes by joining his society, to the portrayal of alienation in akira and neon genesis evangelion, where the main characters remain alienated.[237]\\nnaruto has been described by several critics as a coming-of-age story.[238][239][240] psychologist lawrence c. rubin suggests that the storylines would appeal to readers of any age who have lost loved ones, or are having difficulty finding friends, or who are in other situations shown in the series.[238]  in yukari fujimoto\\'s view, as the characters mature, they show respect to the adults who have raised and taught them, making it a conservative storyline in comparison to other manga of the same time period such as one piece and air gear.[239]  rik spanjers sees the difference between sasuke (a loner) and naruto (an optimist) as tragic, arguing that the contrast between the two protagonists\\' approach to the world is fundamental to the plot: \"naruto\\'s strength grows as he gains more loved ones to protect, while sasuke remains alone and is increasingly absorbed by his quest for revenge\".[240]  omote tomoyuki points out that there are many comic moments in the story despite the difficulties naruto finds himself in, but the comic elements diminish dramatically over time as naruto grows into a teenager, particularly once part ii begins. shōnen jump began to carry comedies such as gintama and reborn! from 2003 onwards, and in tomoyuki\\'s view this is part of the reason for the change in emphasis: naruto \"was not supposed to provide laughter anymore\".[241]\\nfujimoto argues that the story has overly traditional gender roles, noting \"[...] its representations suggest that men are men and women are women and that they differ naturally regarding aptitude and vocation\". for example, the girls initially outperform the boys in the ninja academy, but \"once the boys get serious, the girls cannot keep pace\". fujimoto points out that this does not upset sakura, who is now surpassed by naruto. character development based on female roles, when it does occur, again uses stereotypical roles: tsunade, for example, a middle-aged woman with large breasts, is a clear mother figure, and when she teaches sakura to be a medical ninja, which requires special skills possessed only by women, the story reinforces the idea that women only belong on the battlefield as healers. tsunade herself, who is a figure of authority in naruto, is portrayed as ridiculous in a way that men in the same position are not. fujimoto suggests this presentation of women may explain why the female characters are often the most disliked characters among readers of the manga.[242]\\n\\nthe naruto run, or ninja run, is a running style based on the way the characters run leaning forward with their arms behind their backs. it became popular in 2017, in which many students and groups worldwide have had events to run like naruto characters, especially on anniversaries of the series.[243][244][245][246] on june 27, 2019, matty roberts posted on facebook a satirical event called \"storm area 51, they can\\'t stop all of us\" where he wrote \"we will all meet up at the area 51 alien center tourist attraction and coordinate our entry. if we naruto run, we can move faster than their bullets. let\\'s see them, aliens.\"[247] this quickly became an internet meme, resulting in nationwide alerts and warnings issued by nevada law enforcement and the u.s. air force.[248]\\n'"
      ]
     },
     "execution_count": 5,
     "metadata": {},
     "output_type": "execute_result"
    }
   ],
   "source": [
    "corpus_text"
   ]
  },
  {
   "cell_type": "code",
   "execution_count": 6,
   "metadata": {},
   "outputs": [],
   "source": [
    "corpus_text = re.sub(r'\\[[0-9]*\\]', ' ', corpus_text)\n",
    "corpus_text = re.sub(r'\\s+', ' ', corpus_text)"
   ]
  },
  {
   "cell_type": "code",
   "execution_count": 7,
   "metadata": {},
   "outputs": [],
   "source": [
    "raw=corpus_text\n",
    "raw = raw.lower()#lowercase"
   ]
  },
  {
   "cell_type": "code",
   "execution_count": 8,
   "metadata": {},
   "outputs": [],
   "source": [
    "sent_tokens = nltk.sent_tokenize(raw)\n",
    "word_tokens = nltk.word_tokenize(raw)"
   ]
  },
  {
   "cell_type": "code",
   "execution_count": 9,
   "metadata": {},
   "outputs": [],
   "source": [
    "lemmer = nltk.stem.WordNetLemmatizer()\n",
    "\n",
    "def LemTokens(tokens):\n",
    "    return [lemmer.lemmatize(token) for token in tokens]\n",
    "remove_punct_dict = dict((ord(punct), None) for punct in string.punctuation)\n",
    "\n",
    "def LemNormalize(text):\n",
    "    return LemTokens(nltk.word_tokenize(text.lower().translate(remove_punct_dict)))"
   ]
  },
  {
   "cell_type": "code",
   "execution_count": 10,
   "metadata": {},
   "outputs": [],
   "source": [
    "GREETING_INPUTS = (\"hello\", \"hi\", \"greetings\", \"sup\", \"what's up\",\"hey\",)\n",
    "GREETING_RESPONSES = [\"hi\", \"hey\", \"*nods*\", \"hi there\", \"hello\", \"I am glad! You are talking to me\"]\n",
    "def greeting(sentence):\n",
    " \n",
    "    for word in sentence.split():\n",
    "        if word.lower() in GREETING_INPUTS:\n",
    "            return random.choice(GREETING_RESPONSES)"
   ]
  },
  {
   "cell_type": "code",
   "execution_count": 11,
   "metadata": {},
   "outputs": [],
   "source": [
    "def response(user_response):\n",
    "    robo_response=''\n",
    "    sent_tokens.append(user_response)\n",
    "    TfidfVec = TfidfVectorizer(tokenizer=LemNormalize, stop_words='english')\n",
    "    tfidf = TfidfVec.fit_transform(sent_tokens)\n",
    "    vals = cosine_similarity(tfidf[-1], tfidf)\n",
    "    idx=vals.argsort()[0][-2]\n",
    "    flat = vals.flatten()\n",
    "    flat.sort()\n",
    "    req_tfidf = flat[-2]\n",
    "    if(req_tfidf==0):\n",
    "        robo_response=robo_response+\"I am sorry! I don't understand you\"\n",
    "        return robo_response\n",
    "    else:\n",
    "        robo_response = robo_response+sent_tokens[idx]\n",
    "        return robo_response\n",
    "\n"
   ]
  },
  {
   "cell_type": "code",
   "execution_count": 12,
   "metadata": {},
   "outputs": [
    {
     "name": "stdout",
     "output_type": "stream",
     "text": [
      "NarutoBot: My name is Naruto Uzumaki. I will answer your queries about me. If you want to exit, type Bye!\n",
      "hi\n",
      "Naruto: hi there\n",
      "village\n",
      "Naruto: when kishimoto was creating the primary setting of the naruto manga, he concentrated initially on the designs for the village of konoha.\n",
      "bye\n",
      "Naruto: Bye! take care..\n"
     ]
    }
   ],
   "source": [
    "flag=True\n",
    "print(\"NarutoBot: My name is Naruto Uzumaki. I will answer your queries about me. If you want to exit, type Bye!\")\n",
    "while(flag==True):\n",
    "    user_response = input()\n",
    "    user_response=user_response.lower()\n",
    "    if(user_response!='bye'):\n",
    "        if(user_response=='thanks' or user_response=='thank you' ):\n",
    "            flag=False\n",
    "            print(\"Naruto: You are welcome..\")\n",
    "        else:\n",
    "            if(greeting(user_response)!=None):\n",
    "                print(\"Naruto: \"+greeting(user_response))\n",
    "            else:\n",
    "                print(\"Naruto: \",end=\"\")\n",
    "                print(response(user_response))\n",
    "                sent_tokens.remove(user_response)\n",
    "    else:\n",
    "        flag=False\n",
    "        print(\"Naruto: Bye! take care..\")"
   ]
  },
  {
   "cell_type": "code",
   "execution_count": null,
   "metadata": {},
   "outputs": [],
   "source": []
  }
 ],
 "metadata": {
  "kernelspec": {
   "display_name": "Python 3",
   "language": "python",
   "name": "python3"
  },
  "language_info": {
   "codemirror_mode": {
    "name": "ipython",
    "version": 3
   },
   "file_extension": ".py",
   "mimetype": "text/x-python",
   "name": "python",
   "nbconvert_exporter": "python",
   "pygments_lexer": "ipython3",
   "version": "3.7.3"
  }
 },
 "nbformat": 4,
 "nbformat_minor": 2
}
